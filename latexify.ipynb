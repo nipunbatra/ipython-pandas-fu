{
 "metadata": {
  "name": "",
  "signature": "sha256:1b00a93eaaab6bd7650707c2e415780cc6ccd45056515774254541be17c921bb"
 },
 "nbformat": 3,
 "nbformat_minor": 0,
 "worksheets": [
  {
   "cells": [
    {
     "cell_type": "markdown",
     "metadata": {},
     "source": [
      "Every time I would prepare a matplotlib graph for a paper, I would iteratively adjust the figure size, the font size, scaling in LaTeX. This turns to be a tedious process. Fortunately, when along with [Jack](http://www.jack-kelly.com/) and [Oliver](http://www.oliverparson.co.uk/), I was writing our [nilmtk paper](http://arxiv.org/pdf/1404.3878v1.pdf), Jack demonstrated a function to \"latexify\" plots. This function would take care of font sizes and scaling, so that in one go one could generate a plot and stick in LaTeX. In this post I'll illustrate this technique to save all that iterative effort and make plots look nicer."
     ]
    },
    {
     "cell_type": "code",
     "collapsed": false,
     "input": [
      "import matplotlib.pyplot as plt\n",
      "import numpy as np\n",
      "import pandas as pd\n",
      "import matplotlib"
     ],
     "language": "python",
     "metadata": {},
     "outputs": [],
     "prompt_number": 1
    },
    {
     "cell_type": "code",
     "collapsed": false,
     "input": [
      "from math import sqrt\n",
      "SPINE_COLOR = 'gray'"
     ],
     "language": "python",
     "metadata": {},
     "outputs": [],
     "prompt_number": 2
    },
    {
     "cell_type": "markdown",
     "metadata": {},
     "source": [
      "The following is the `latexify` function. It allows you to create 2 column or 1 column figures. You may also wish to alter the `height` or `width` of the figure. The default settings are good for most cases.\n",
      "You may also change the parameters such as labelsize and fontsize based on your classfile. For this post, I'll use the following [ACM classfile](http://www.acm.org/sigs/publications/proceedings-templates)."
     ]
    },
    {
     "cell_type": "code",
     "collapsed": false,
     "input": [
      "def latexify(fig_width=None, fig_height=None, columns=1):\n",
      "    \"\"\"Set up matplotlib's RC params for LaTeX plotting.\n",
      "    Call this before plotting a figure.\n",
      "\n",
      "    Parameters\n",
      "    ----------\n",
      "    fig_width : float, optional, inches\n",
      "    fig_height : float,  optional, inches\n",
      "    columns : {1, 2}\n",
      "    \"\"\"\n",
      "\n",
      "    # code adapted from http://www.scipy.org/Cookbook/Matplotlib/LaTeX_Examples\n",
      "\n",
      "    # Width and max height in inches for IEEE journals taken from\n",
      "    # computer.org/cms/Computer.org/Journal%20templates/transactions_art_guide.pdf\n",
      "\n",
      "    assert(columns in [1,2])\n",
      "\n",
      "    if fig_width is None:\n",
      "        fig_width = 3.39 if columns==1 else 6.9 # width in inches\n",
      "\n",
      "    if fig_height is None:\n",
      "        golden_mean = (sqrt(5)-1.0)/2.0    # Aesthetic ratio\n",
      "        fig_height = fig_width*golden_mean # height in inches\n",
      "\n",
      "    MAX_HEIGHT_INCHES = 8.0\n",
      "    if fig_height > MAX_HEIGHT_INCHES:\n",
      "        print(\"WARNING: fig_height too large:\" + fig_height + \n",
      "              \"so will reduce to\" + MAX_HEIGHT_INCHES + \"inches.\")\n",
      "        fig_height = MAX_HEIGHT_INCHES\n",
      "\n",
      "    params = {'backend': 'ps',\n",
      "              'text.latex.preamble': ['\\usepackage{gensymb}'],\n",
      "              'axes.labelsize': 8, # fontsize for x and y labels (was 10)\n",
      "              'axes.titlesize': 8,\n",
      "              'text.fontsize': 8, # was 10\n",
      "              'legend.fontsize': 8, # was 10\n",
      "              'xtick.labelsize': 8,\n",
      "              'ytick.labelsize': 8,\n",
      "              'text.usetex': True,\n",
      "              'figure.figsize': [fig_width,fig_height],\n",
      "              'font.family': 'serif'\n",
      "    }\n",
      "\n",
      "    matplotlib.rcParams.update(params)\n",
      "\n",
      "\n",
      "def format_axes(ax):\n",
      "\n",
      "    for spine in ['top', 'right']:\n",
      "        ax.spines[spine].set_visible(False)\n",
      "\n",
      "    for spine in ['left', 'bottom']:\n",
      "        ax.spines[spine].set_color(SPINE_COLOR)\n",
      "        ax.spines[spine].set_linewidth(0.5)\n",
      "\n",
      "    ax.xaxis.set_ticks_position('bottom')\n",
      "    ax.yaxis.set_ticks_position('left')\n",
      "\n",
      "    for axis in [ax.xaxis, ax.yaxis]:\n",
      "        axis.set_tick_params(direction='out', color=SPINE_COLOR)\n",
      "\n",
      "    return ax"
     ],
     "language": "python",
     "metadata": {},
     "outputs": [],
     "prompt_number": 3
    },
    {
     "cell_type": "code",
     "collapsed": false,
     "input": [
      "%matplotlib inline"
     ],
     "language": "python",
     "metadata": {},
     "outputs": [],
     "prompt_number": 4
    },
    {
     "cell_type": "markdown",
     "metadata": {},
     "source": [
      "Let us create a dummy data frame"
     ]
    },
    {
     "cell_type": "code",
     "collapsed": false,
     "input": [
      "df = pd.DataFrame(np.random.randn(10,2))\n",
      "df.columns = ['Column 1', 'Column 2']"
     ],
     "language": "python",
     "metadata": {},
     "outputs": [],
     "prompt_number": 5
    },
    {
     "cell_type": "code",
     "collapsed": false,
     "input": [
      "ax = df.plot()\n",
      "ax.set_xlabel(\"X label\")\n",
      "ax.set_ylabel(\"Y label\")\n",
      "ax.set_title(\"Title\")\n",
      "plt.tight_layout()\n",
      "plt.savefig(\"files/image1.pdf\")"
     ],
     "language": "python",
     "metadata": {},
     "outputs": [
      {
       "metadata": {},
       "output_type": "display_data",
       "png": "[encoded data removed]",
       "text": [
        "<matplotlib.figure.Figure at 0x7f6c09363bd0>"
       ]
      }
     ],
     "prompt_number": 6
    },
    {
     "cell_type": "markdown",
     "metadata": {},
     "source": [
      "Now, let us call the `latexify` function to alter matplotlib parameters suited to our LaTeX classfile."
     ]
    },
    {
     "cell_type": "code",
     "collapsed": false,
     "input": [
      "latexify()"
     ],
     "language": "python",
     "metadata": {},
     "outputs": [],
     "prompt_number": 7
    },
    {
     "cell_type": "code",
     "collapsed": false,
     "input": [
      "ax = df.plot()\n",
      "ax.set_xlabel(\"X label\")\n",
      "ax.set_ylabel(\"Y label\")\n",
      "ax.set_title(\"Title\")\n",
      "plt.tight_layout()\n",
      "format_axes(ax)\n",
      "plt.savefig(\"files/image2.pdf\")"
     ],
     "language": "python",
     "metadata": {},
     "outputs": [
      {
       "metadata": {},
       "output_type": "display_data",
       "png": "[encoded data removed]",
       "text": [
        "<matplotlib.figure.Figure at 0x7f6c09363610>"
       ]
      }
     ],
     "prompt_number": 8
    },
    {
     "cell_type": "markdown",
     "metadata": {},
     "source": [
      "Let us have a quick look at our latex source file. I have scaled down the plot generated by default matploltib settings by 50%. The next plot which is generated using `latexified` settings doesn't need any scaling."
     ]
    },
    {
     "cell_type": "code",
     "collapsed": false,
     "input": [
      "! cat files/1.tex"
     ],
     "language": "python",
     "metadata": {},
     "outputs": [
      {
       "output_type": "stream",
       "stream": "stdout",
       "text": [
        "\\documentclass{sig-alternate}\r\n",
        "\\title{Python plots for LaTeX}\r\n",
        "\\begin{document}\r\n",
        "\\maketitle\r\n",
        "\\section{Introduction}\r\n",
        "Some random text out here!\r\n",
        "\\noindent\r\n",
        "\r\n",
        "\\begin{figure}\r\n",
        "\\centering \\includegraphics[scale=1]{image1.pdf}\r\n",
        "\\caption{Scaled down of the originial matplotlib plot. Now, the text looks very small.}\r\n",
        "\\label{image1}\r\n",
        "\\end{figure}\r\n",
        "\r\n",
        "\\begin{figure}\r\n",
        "\\centering \\includegraphics{image2.pdf}\r\n",
        "\\caption{LaTeXified plot :)}\r\n",
        "\\label{image2}\r\n",
        "\\end{figure}\r\n",
        "\r\n",
        "\r\n",
        "\\end{document}\r\n"
       ]
      }
     ],
     "prompt_number": 9
    },
    {
     "cell_type": "markdown",
     "metadata": {},
     "source": [
      "Finally, let us look at the \"png\" version of our generated pdf."
     ]
    },
    {
     "cell_type": "code",
     "collapsed": false,
     "input": [
      "from wand.image import Image as WImage\n",
      "img = WImage(filename='files/1.pdf')"
     ],
     "language": "python",
     "metadata": {},
     "outputs": [
      {
       "ename": "ImportError",
       "evalue": "No module named wand.image",
       "output_type": "pyerr",
       "traceback": [
        "\u001b[1;31m---------------------------------------------------------------------------\u001b[0m\n\u001b[1;31mImportError\u001b[0m                               Traceback (most recent call last)",
        "\u001b[1;32m<ipython-input-14-630d51a26c82>\u001b[0m in \u001b[0;36m<module>\u001b[1;34m()\u001b[0m\n\u001b[1;32m----> 1\u001b[1;33m \u001b[1;32mfrom\u001b[0m \u001b[0mwand\u001b[0m\u001b[1;33m.\u001b[0m\u001b[0mimage\u001b[0m \u001b[1;32mimport\u001b[0m \u001b[0mImage\u001b[0m \u001b[1;32mas\u001b[0m \u001b[0mWImage\u001b[0m\u001b[1;33m\u001b[0m\u001b[0m\n\u001b[0m\u001b[0;32m      2\u001b[0m \u001b[0mimg\u001b[0m \u001b[1;33m=\u001b[0m \u001b[0mWImage\u001b[0m\u001b[1;33m(\u001b[0m\u001b[0mfilename\u001b[0m\u001b[1;33m=\u001b[0m\u001b[1;34m'files/1.pdf'\u001b[0m\u001b[1;33m)\u001b[0m\u001b[1;33m\u001b[0m\u001b[0m\n",
        "\u001b[1;31mImportError\u001b[0m: No module named wand.image"
       ]
      }
     ],
     "prompt_number": 14
    },
    {
     "cell_type": "code",
     "collapsed": false,
     "input": [
      "img"
     ],
     "language": "python",
     "metadata": {},
     "outputs": [
      {
       "metadata": {},
       "output_type": "pyout",
       "png": "[encoded data removed]",
       "prompt_number": 13,
       "text": [
        "<wand.image.Image: de36481 'PDF' (612x792)>"
       ]
      }
     ],
     "prompt_number": 13
    },
    {
     "cell_type": "markdown",
     "metadata": {},
     "source": [
      "Clearly, the LaTeXified version is likely to save you a lot of figure tweaking! You don't need to play with different scaling settings. Nor, do you have to play with font sizes and ofcourse not with a combination of these two which can be pretty hard!\n",
      "You may download the generated pdf file [here](http://nipunbatra.github.io/downloads/files/1.pdf)."
     ]
    },
    {
     "cell_type": "code",
     "collapsed": false,
     "input": [
      "from IPython.display import HTML\n",
      "HTML(open(\"style.css\").read())"
     ],
     "language": "python",
     "metadata": {},
     "outputs": [
      {
       "html": [
        "<style>\n",
        "    @font-face {\n",
        "        font-family: \"Computer Modern\";\n",
        "        src: url('http://9dbb143991406a7c655e-aa5fcb0a5a4ec34cff238a2d56ca4144.r56.cf5.rackcdn.com/cmunss.otf');\n",
        "    }\n",
        "    @font-face {\n",
        "        font-family: \"Computer Modern\";\n",
        "        font-weight: bold;\n",
        "        src: url('http://9dbb143991406a7c655e-aa5fcb0a5a4ec34cff238a2d56ca4144.r56.cf5.rackcdn.com/cmunsx.otf');\n",
        "    }\n",
        "    @font-face {\n",
        "        font-family: \"Computer Modern\";\n",
        "        font-style: oblique;\n",
        "        src: url('http://9dbb143991406a7c655e-aa5fcb0a5a4ec34cff238a2d56ca4144.r56.cf5.rackcdn.com/cmunsi.otf');\n",
        "    }\n",
        "    @font-face {\n",
        "        font-family: \"Computer Modern\";\n",
        "        font-weight: bold;\n",
        "        font-style: oblique;\n",
        "        src: url('http://9dbb143991406a7c655e-aa5fcb0a5a4ec34cff238a2d56ca4144.r56.cf5.rackcdn.com/cmunso.otf');\n",
        "    }\n",
        "    div.cell{\n",
        "        width:800px;\n",
        "        margin-left:16% !important;\n",
        "        margin-right:auto;\n",
        "    }\n",
        "    h1 {\n",
        "        font-family: Helvetica, serif;\n",
        "    }\n",
        "    h4{\n",
        "        margin-top:12px;\n",
        "        margin-bottom: 3px;\n",
        "       }\n",
        "    div.text_cell_render{\n",
        "        font-family: Computer Modern, \"Helvetica Neue\", Arial, Helvetica, Geneva, sans-serif;\n",
        "        line-height: 145%;\n",
        "        font-size: 130%;\n",
        "        width:800px;\n",
        "        margin-left:auto;\n",
        "        margin-right:auto;\n",
        "    }\n",
        "    .CodeMirror{\n",
        "            font-family: \"Source Code Pro\", source-code-pro,Consolas, monospace;\n",
        "    }\n",
        "    .prompt{\n",
        "        display: None;\n",
        "    }\n",
        "    .text_cell_render h5 {\n",
        "        font-weight: 300;\n",
        "        font-size: 22pt;\n",
        "        color: #4057A1;\n",
        "        font-style: italic;\n",
        "        margin-bottom: .5em;\n",
        "        margin-top: 0.5em;\n",
        "        display: block;\n",
        "    }\n",
        "    \n",
        "    .warning{\n",
        "        color: rgb( 240, 20, 20 )\n",
        "        }  \n",
        "</style>\n",
        "<script>\n",
        "    MathJax.Hub.Config({\n",
        "                        TeX: {\n",
        "                           extensions: [\"AMSmath.js\"]\n",
        "                           },\n",
        "                tex2jax: {\n",
        "                    inlineMath: [ ['$','$'], [\"\\\\(\",\"\\\\)\"] ],\n",
        "                    displayMath: [ ['$$','$$'], [\"\\\\[\",\"\\\\]\"] ]\n",
        "                },\n",
        "                displayAlign: 'center', // Change this to 'center' to center equations.\n",
        "                \"HTML-CSS\": {\n",
        "                    styles: {'.MathJax_Display': {\"margin\": 4}}\n",
        "                }\n",
        "        });\n",
        "</script>\n"
       ],
       "metadata": {},
       "output_type": "pyout",
       "prompt_number": 1,
       "text": [
        "<IPython.core.display.HTML at 0x7ffeec2e2fd0>"
       ]
      }
     ],
     "prompt_number": 1
    },
    {
     "cell_type": "code",
     "collapsed": false,
     "input": [],
     "language": "python",
     "metadata": {},
     "outputs": []
    }
   ],
   "metadata": {}
  }
 ]
}